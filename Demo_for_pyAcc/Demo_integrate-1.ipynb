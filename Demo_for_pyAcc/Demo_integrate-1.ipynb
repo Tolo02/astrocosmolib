{
 "cells": [
  {
   "cell_type": "code",
   "execution_count": 27,
   "id": "e3855197",
   "metadata": {},
   "outputs": [],
   "source": [
    "import sys\n",
    "sys.path.append('/home/elena/astrocosmolib/')\n",
    "\n",
    "import numpy as np\n",
    "import matplotlib.pyplot as plt\n",
    "\n",
    "from astropy import units as u\n",
    "\n",
    "from pyACC.integrate.integration import Integrate"
   ]
  },
  {
   "cell_type": "code",
   "execution_count": 28,
   "id": "810f7620",
   "metadata": {},
   "outputs": [],
   "source": [
    "def parabola(x):\n",
    "    return x**2"
   ]
  },
  {
   "cell_type": "code",
   "execution_count": 29,
   "id": "b7671f0f",
   "metadata": {},
   "outputs": [
    {
     "name": "stdout",
     "output_type": "stream",
     "text": [
      "Risultato con 'quad' (da SciPy):      0.33333333\n",
      "Risultato con 'trapezoidal' (N=1000): 0.33333350\n"
     ]
    }
   ],
   "source": [
    "integratore_parabola = Integrate(parabola)\n",
    "risultato_quad = integratore_parabola(method='quad', a=0, b=1)\n",
    "print(f\"Risultato con 'quad' (da SciPy):      {risultato_quad:.8f}\")\n",
    "\n",
    "risultato_trap = integratore_parabola(method='trapezoidal', a=0, b=1, N=1000)\n",
    "print(f\"Risultato con 'trapezoidal' (N=1000): {risultato_trap:.8f}\")"
   ]
  }
 ],
 "metadata": {
  "kernelspec": {
   "display_name": "acc-env",
   "language": "python",
   "name": "python3"
  },
  "language_info": {
   "codemirror_mode": {
    "name": "ipython",
    "version": 3
   },
   "file_extension": ".py",
   "mimetype": "text/x-python",
   "name": "python",
   "nbconvert_exporter": "python",
   "pygments_lexer": "ipython3",
   "version": "3.12.3"
  }
 },
 "nbformat": 4,
 "nbformat_minor": 5
}
