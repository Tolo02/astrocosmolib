{
 "cells": [
  {
   "cell_type": "code",
   "execution_count": 1,
   "id": "901b97df",
   "metadata": {},
   "outputs": [],
   "source": [
    "import sys\n",
    "sys.path.append('../')\n",
    "\n",
    "from pyACC.helpers.logger import Logger"
   ]
  },
  {
   "cell_type": "code",
   "execution_count": 2,
   "id": "3bca4a9a",
   "metadata": {},
   "outputs": [],
   "source": [
    "# Intialize Logger\n",
    "logger = Logger(\"Elena\")"
   ]
  },
  {
   "cell_type": "code",
   "execution_count": 3,
   "id": "e2b4b915",
   "metadata": {},
   "outputs": [
    {
     "name": "stdout",
     "output_type": "stream",
     "text": [
      "2025-06-19 22:47:45.824947 :: \u001b[1m\u001b[35mElena\u001b[0m :: \u001b[32mINFO\u001b[0m :: Hello World!\n"
     ]
    }
   ],
   "source": [
    "#Info message\n",
    "logger(\"Hello World!\")"
   ]
  },
  {
   "cell_type": "code",
   "execution_count": 4,
   "id": "5272aea9",
   "metadata": {},
   "outputs": [
    {
     "name": "stdout",
     "output_type": "stream",
     "text": [
      "2025-06-19 22:47:45.844866 :: \u001b[1m\u001b[35mElena\u001b[0m :: \u001b[33mWARNING\u001b[0m :: This is a warning\n"
     ]
    }
   ],
   "source": [
    "# Warning message\n",
    "logger.warning(\"This is a warning\")"
   ]
  },
  {
   "cell_type": "code",
   "execution_count": 5,
   "id": "39d75982",
   "metadata": {},
   "outputs": [
    {
     "name": "stdout",
     "output_type": "stream",
     "text": [
      "2025-06-19 22:47:45.862282 :: \u001b[1m\u001b[35mElena\u001b[0m :: \u001b[31mERROR\u001b[0m :: This is an error\n"
     ]
    }
   ],
   "source": [
    "# Error message\n",
    "logger.error(\"This is an error\")"
   ]
  }
 ],
 "metadata": {
  "kernelspec": {
   "display_name": "acc-env",
   "language": "python",
   "name": "python3"
  },
  "language_info": {
   "codemirror_mode": {
    "name": "ipython",
    "version": 3
   },
   "file_extension": ".py",
   "mimetype": "text/x-python",
   "name": "python",
   "nbconvert_exporter": "python",
   "pygments_lexer": "ipython3",
   "version": "3.12.3"
  }
 },
 "nbformat": 4,
 "nbformat_minor": 5
}
