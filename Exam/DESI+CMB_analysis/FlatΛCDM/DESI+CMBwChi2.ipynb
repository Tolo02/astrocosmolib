{
 "cells": [
  {
   "cell_type": "markdown",
   "id": "6daa3ee2",
   "metadata": {},
   "source": [
    "# FlatΛCDM Cosmological Parameter Estimation with DESI + CMB Data\n",
    "\n",
    "This notebook derives the cosmological parameters for a **FlatΛCDM** model by minimizing the joint $χ^2$ function using both DESI BAO and CMB data.\n",
    "\n",
    "- **Model:** FlatΛCDM (with $H_0$, $\\Omega_m$ as free parameters; $r_d$ is derived from CMB parameters)\n",
    "- **Data:** DESI BAO measurements + CMB constraints ($\\theta_*$, $w_b$, $w_{bc}$, with covariance)\n",
    "- **Method:**\n",
    "  - Uses the [`CosmologicalDistances`](../../pyACC/cosmology/distances.py) class from the `pyACC` library\n",
    "  - Uses the [`FlatLambdaCDM`](../../pyACC/cosmology/cosmology.py) class from the `pyACC` library\n",
    "  - Minimization performed with `scipy.optimize.minimize`\n",
    "\n",
    "> **Note:** With DESI data alone, only the product $H_0 \\cdot r_d$ can be robustly constrained, not $H_0$ and $r_d$ separately. By including CMB constraints, $r_d$ is determined from $w_b$ and $w_{bc}$, allowing $H_0$ to be fit directly."
   ]
  },
  {
   "cell_type": "code",
   "execution_count": null,
   "id": "74ba2a1c",
   "metadata": {},
   "outputs": [],
   "source": [
    "import sys\n",
    "sys.path.append('/home/giorgio/Documents/Scuola/Università/Università_di_Genova/IV_ANNO/II_Semestre/Astrofisica Computazionale/ESAME/ToloAstroCosmoLib')\n",
    "\n",
    "import numpy as np\n",
    "import matplotlib.pyplot as plt\n",
    "import astropy.units as u \n",
    "import pandas as pd\n",
    "\n",
    "from pyACC.cosmology.cosmology import FlatLambdaCDM\n",
    "from pyACC.cosmology.distances import CosmologicalDistances\n",
    "\n",
    "# Example: set CMB means and covariance matrix manually\n",
    "theta_star_mean = 0.010141   #Angualr scale of the sound horizon at recombination\n",
    "w_b_mean = 0.02223           #Physical baryon density\n",
    "w_bc_mean = 0.14208          #Physical cold dark matter density\n",
    "\n",
    "Neff = 3.046                 #Effective number of relativistic neutrinos (I'm effectivly neglecting the neutrinos mass)\n",
    "\n",
    "\n",
    "# Hubble constant in units of 100 km/s/Mpc (thus dimensionless)\n",
    "def h(H0):\n",
    "    return H0 / 100  \n",
    "\n",
    "# Energy baryon ratio\n",
    "def Omega_b(w_b_mean, H0):\n",
    "    return w_b_mean / (h(H0)**2) \n",
    "\n",
    "# Energy cold dark matter ratio\n",
    "def Omega_bc(w_bc_mean, H0):\n",
    "    return w_bc_mean / (h(H0)**2)\n",
    "\n",
    "\n",
    "cmb_means = np.array([theta_star_mean, w_b_mean, w_bc_mean])\n",
    "\n",
    "# Example covariance matrix (replace with actual values)\n",
    "cmb_cov = np.array([\n",
    "    [0.006621e-9, 0.12444e-9, -1.1929e-9],\n",
    "    [0.12444e-9, 21.344e-9, -94.001e-9],\n",
    "    [-1.1929e-9, -94.001e-9, 1488.4e-9]\n",
    "])\n",
    "cmb_cov_inv = np.linalg.inv(cmb_cov)"
   ]
  },
  {
   "cell_type": "code",
   "execution_count": 14,
   "id": "4ea8f582",
   "metadata": {},
   "outputs": [],
   "source": [
    "# Load DESI data from data.csv\n",
    "file_data = \"data.csv\"\n",
    "data = pd.read_csv(file_data)\n",
    "data = data.astype(float)\n",
    "\n",
    "z = data[\"z_eff\"].values\n",
    "\n",
    "D_M_over_r_d = data[\"D_M / r_d\"].values\n",
    "D_M_over_r_d_err = data[\"D_M / r_d_err\"].values\n",
    "\n",
    "D_V_obs = data[\"D_V / r_d\"].values\n",
    "D_V_err = data[\"D_V / r_d_err\"].values\n"
   ]
  },
  {
   "cell_type": "markdown",
   "id": "a9d575cc",
   "metadata": {},
   "source": [
    "## Error propagation for $r_d$ using the CMB means and covariance\n",
    "\n",
    "I propagate the uncertainties on $w_b$ and $w_{bc}$ to $r_d$ using the derivative error propagation formula for a function of correlated variables."
   ]
  },
  {
   "cell_type": "code",
   "execution_count": 15,
   "id": "53c862cd",
   "metadata": {},
   "outputs": [
    {
     "name": "stdout",
     "output_type": "stream",
     "text": [
      "r_d = 147.428 ± 0.249 Mpc\n"
     ]
    }
   ],
   "source": [
    "#from DESI paper (2):\n",
    "def r_d(w_b, w_bc, Neff=3.046):\n",
    "    return 147.05 * ((w_b/0.02236)**(-0.13)) * ((w_bc/0.1432)**(-0.23)) * ((Neff/3.046)**(-0.1))\n",
    "\n",
    "# I compute r_b at the mean values\n",
    "r_d_val = r_d(w_b_mean, w_bc_mean, Neff)\n",
    "\n",
    "# Partial derivatives \n",
    "drb_dw_b = r_d_val * -0.13 / w_b_mean \n",
    "drb_dw_bc = r_d_val * -0.23 / w_bc_mean\n",
    "\n",
    "# I define the gradient vector (Neff is fixed thus I only have two correlated parameters)\n",
    "grad = np.array([drb_dw_b, drb_dw_bc])\n",
    "\n",
    "# I Extract the relevant 2x2 covariance South-East minor for (w_b, w_bc)\n",
    "cov_wb_wbc = cmb_cov[1:3, 1:3]\n",
    "\n",
    "#I Propagate the error (for my future self: @ is RxC product)\n",
    "var_r_b = grad @ cov_wb_wbc @ grad.T\n",
    "sigma_r_b = np.sqrt(var_r_b)\n",
    "print(f\"r_d = {r_d_val:.3f} ± {sigma_r_b:.3f} Mpc\")"
   ]
  },
  {
   "cell_type": "markdown",
   "id": "db4b2bee",
   "metadata": {},
   "source": [
    "## Joint Chi-square Function for DESI + CMB\n",
    "\n",
    "This function combines the DESI BAO data and the CMB constraints (means and covariance) to find the best-fit FlatLambdaCDM parameters."
   ]
  },
  {
   "cell_type": "code",
   "execution_count": 16,
   "id": "eb6936e8",
   "metadata": {},
   "outputs": [],
   "source": [
    "from scipy.linalg import inv\n",
    "\n",
    "def model_cmb_params(H0):\n",
    "    # theta_star is fixed, w_b and w_bc are computed from H0\n",
    "    return np.array([theta_star_mean, w_b_mean, w_bc_mean])\n",
    "\n",
    "def joint_chi2(params):\n",
    "    H0, Omega_m = params[:2]\n",
    "    Omega_radiation = 0.0  #for completeness\n",
    "    model = FlatLambdaCDM(H0, Omega_m, Omega_radiation)\n",
    "\n",
    "    # DESI chi2: compare D_V/r_d at each z\n",
    "    D_V_model = np.array([CosmologicalDistances(model.H).volume_distance(z_i) for z_i in z])\n",
    "    chi2_desi = np.sum(((D_V_obs - D_V_model / r_d_val) / D_V_err) ** 2)\n",
    "\n",
    "    # CMB chi2: compare model CMB params to means using covariance\n",
    "    cmb_model = model_cmb_params(H0)\n",
    "    delta = cmb_model - cmb_means\n",
    "    chi2_cmb = delta @ cmb_cov_inv @ delta\n",
    "\n",
    "    return chi2_desi + chi2_cmb"
   ]
  },
  {
   "cell_type": "markdown",
   "id": "2cb0ec02",
   "metadata": {},
   "source": [
    "## Minimize the joint chi-square and plot the best-fit model"
   ]
  },
  {
   "cell_type": "code",
   "execution_count": 17,
   "id": "9d3112a5",
   "metadata": {},
   "outputs": [
    {
     "name": "stdout",
     "output_type": "stream",
     "text": [
      "Minimum chi2/dof: 2.32\n",
      "H0 = 68.851 ± 0.454\n",
      "Omega_m = 0.2980 ± 0.0087\n"
     ]
    }
   ],
   "source": [
    "from scipy.optimize import minimize, approx_fprime\n",
    "\n",
    "# Initial guess for H0 and Omega_m\n",
    "initial_guess = [79.0, 0.03]\n",
    "\n",
    "# Minimize the joint chi-square\n",
    "result = minimize(joint_chi2, initial_guess, bounds=[(60, 80), (0, 1)])\n",
    "\n",
    "if result.success:\n",
    "    best_H0, best_Omega_m = result.x\n",
    "    print(f\"Minimum chi2/dof: {result.fun/2:.2f}\")\n",
    "\n",
    "    # Estimate errors using the inverse Hessian\n",
    "    def hessian(func, x0, epsilon=1e-5):\n",
    "        n = len(x0)\n",
    "        hess = np.zeros((n, n))\n",
    "        for i in range(n):\n",
    "            x1 = np.array(x0, dtype=float)\n",
    "            x1[i] += epsilon\n",
    "            grad1 = approx_fprime(x1, func, epsilon)\n",
    "            x2 = np.array(x0, dtype=float)\n",
    "            x2[i] -= epsilon\n",
    "            grad2 = approx_fprime(x2, func, epsilon)\n",
    "            hess[:, i] = (grad1 - grad2) / (2 * epsilon)\n",
    "        return hess\n",
    "\n",
    "    hess = hessian(joint_chi2, result.x)\n",
    "    cov = np.linalg.inv(hess)\n",
    "    errors = np.sqrt(np.diag(cov))\n",
    "    print(f\"H0 = {best_H0:.3f} ± {errors[0]:.3f}\")\n",
    "    print(f\"Omega_m = {best_Omega_m:.4f} ± {errors[1]:.4f}\")\n",
    "else:\n",
    "    print(\"Minimization failed:\", result.message)"
   ]
  },
  {
   "cell_type": "code",
   "execution_count": 18,
   "id": "0cae43ea",
   "metadata": {},
   "outputs": [
    {
     "data": {
      "image/png": "[encoded data removed]",
      "text/plain": [
       "<Figure size 640x480 with 1 Axes>"
      ]
     },
     "metadata": {},
     "output_type": "display_data"
    }
   ],
   "source": [
    "# Plot DESI data and best-fit model\n",
    "z_plot = np.linspace(np.min(z), np.max(z), 200)\n",
    "model_best = FlatLambdaCDM(best_H0, best_Omega_m)\n",
    "distances_best = CosmologicalDistances(model_best.H)\n",
    "D_V_model_plot = np.array([distances_best.volume_distance(z_i) for z_i in z_plot]) / r_d_val\n",
    "\n",
    "plt.errorbar(z, D_V_obs, yerr=D_V_err, fmt='o', markersize=4, label='DESI data', capsize=3)\n",
    "plt.plot(z_plot, D_V_model_plot, label='Best-fit FlatLambdaCDM', color='C1')\n",
    "plt.xlabel(r\"$z$\")\n",
    "plt.ylabel(r\"$D_V / r_d$\")\n",
    "plt.title(\"DESI Data and Best-fit FlatLambdaCDM Model (DESI+CMB)\")\n",
    "plt.legend()\n",
    "plt.grid(True)\n",
    "plt.show()"
   ]
  },
  {
   "cell_type": "markdown",
   "id": "5446634e",
   "metadata": {},
   "source": [
    "## Comparison with Literature: arXiv:2411.12020v1\n",
    "\n",
    "<div style=\"background: #f6f8fa; border-left: 4px solid #0366d6; padding: 1em 1.5em; margin-bottom: 1em;\">\n",
    "<b>Paper Reference:</b> <a href=\"https://arxiv.org/abs/2411.12020v1\" target=\"_blank\">arXiv:2411.12020v1</a>  \n",
    "<b>Table V, Flat ΛCDM, DESI+CMB fit</b>\n",
    "</div>\n",
    "\n",
    "| Flat ΛCDM         | My $χ^2$ minimization         |My MCMC sample    | Paper|\n",
    "|-------------------|-------------------------------|-------------------|----------------------------|\n",
    "| $H_0$   | $68.851 \\pm 0.454 \\,\\text{km/s/Mpc}$   |$68.82 \\pm 0.64 \\,\\text{km/s/Mpc}$| $68.17 \\pm 0.33 \\,\\text{km/s/Mpc}$              |\n",
    "| $\\Omega_m$        | $0.2980 \\pm 0.0943$           | $00.299 \\pm 0.012$       | $0.3034 \\pm 0.0037$|"
   ]
  }
 ],
 "metadata": {
  "kernelspec": {
   "display_name": "acc-env",
   "language": "python",
   "name": "python3"
  },
  "language_info": {
   "codemirror_mode": {
    "name": "ipython",
    "version": 3
   },
   "file_extension": ".py",
   "mimetype": "text/x-python",
   "name": "python",
   "nbconvert_exporter": "python",
   "pygments_lexer": "ipython3",
   "version": "3.12.9"
  }
 },
 "nbformat": 4,
 "nbformat_minor": 5
}
