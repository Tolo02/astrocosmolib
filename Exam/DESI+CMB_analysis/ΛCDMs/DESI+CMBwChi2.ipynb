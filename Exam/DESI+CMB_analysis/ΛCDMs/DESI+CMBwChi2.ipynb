{
 "cells": [
  {
   "cell_type": "markdown",
   "id": "f3d39486",
   "metadata": {},
   "source": [
    "## ΛCDM Cosmological Parameter Estimation with DESI + CMB Data\n",
    "\n",
    "This notebook derives the cosmological parameters for a **ΛCDM** model by minimizing the joint $\\chi^2$ function using both DESI BAO and CMB data.\n",
    "\n",
    "- **Model:** ΛCDM (with $H_0$, $\\Omega_m$, $\\Omega_Λ$ as free parameters; $r_d$ is derived from CMB parameters)\n",
    "- **Data:** DESI BAO measurements + CMB constraints ($\\theta_*$, $w_b$, $w_{bc}$, with covariance)\n",
    "- **Method:**\n",
    "  - Uses the [`CosmologicalDistances`](../../pyACC/cosmology/distances.py) class from the `pyACC` library\n",
    "  - Uses the [`LambdaCDM`](../../pyACC/cosmology/cosmology.py) class from the `pyACC` library\n",
    "  - Parameter estimation performed with `scipy.optimize.minimize`\n",
    "\n",
    "> **Note:** With DESI data alone, only the product $H_0 \\cdot r_d$ can be robustly constrained, not $H_0$ and $r_d$ separately. By including CMB constraints, $r_d$ is determined from $w_b$ and $w_{bc}$, allowing $H_0$ to be fit directly."
   ]
  },
  {
   "cell_type": "markdown",
   "id": "74ba2a1c",
   "metadata": {},
   "source": [
    "# Joint DESI + CMB Likelihood: Adding CMB Constraints\n",
    "\n",
    "We will add CMB information (on $\\theta_*$, $w_b$, $w_{bc}$) to the DESI likelihood, using their means and covariance matrix."
   ]
  },
  {
   "cell_type": "code",
   "execution_count": 7,
   "id": "74ba2a1c",
   "metadata": {},
   "outputs": [],
   "source": [
    "import sys\n",
    "sys.path.append('/home/giorgio/Documents/Scuola/Università/Università_di_Genova/IV_ANNO/II_Semestre/Astrofisica Computazionale/ESAME/ToloAstroCosmoLib')\n",
    "\n",
    "import numpy as np\n",
    "import matplotlib.pyplot as plt\n",
    "import astropy.units as u \n",
    "import pandas as pd\n",
    "\n",
    "from pyACC.cosmology.cosmology import LambdaCDM\n",
    "from pyACC.cosmology.distances import CosmologicalDistances\n",
    "\n",
    "# I set CMB means and covariance matrix manually\n",
    "theta_star_mean = 0.010141   # Angular scale of the sound horizon at recombination\n",
    "w_b_mean = 0.02223           # Physical baryon density\n",
    "w_bc_mean = 0.14208          # Physical cold dark matter density\n",
    "\n",
    "Neff = 3.046                 # Effective number of relativistic neutrinos (I'm effectively neglecting the neutrinos mass)\n",
    "\n",
    "def h(H0):\n",
    "    return H0 / 100                 # Hubble constant in units of 100 km/s/Mpc (thus dimensionless)\n",
    "def Omega_b(w_b_mean, H0):\n",
    "    return w_b_mean / (h(H0)**2)    # Energy baryon ratio\n",
    "def Omega_m(w_bc_mean, H0):\n",
    "    return w_bc_mean / (h(H0)**2)   # Energy cold dark matter ratio \n",
    "\n",
    "cmb_means = np.array([theta_star_mean, w_b_mean, w_bc_mean])\n",
    "\n",
    "# Example covariance matrix (replace with actual values)\n",
    "cmb_cov = np.array([\n",
    "    [0.006621e-9, 0.12444e-9, -1.1929e-9],\n",
    "    [0.12444e-9, 21.344e-9, -94.001e-9],\n",
    "    [-1.1929e-9, -94.001e-9, 1488.4e-9]\n",
    "])\n",
    "cmb_cov_inv = np.linalg.inv(cmb_cov)"
   ]
  },
  {
   "cell_type": "code",
   "execution_count": 8,
   "id": "4ea8f582",
   "metadata": {},
   "outputs": [],
   "source": [
    "# Load DESI data from data.csv\n",
    "file_data = \"data.csv\"\n",
    "data = pd.read_csv(file_data)\n",
    "data = data.astype(float)\n",
    "\n",
    "z = data[\"z_eff\"].values\n",
    "\n",
    "D_M_over_r_d = data[\"D_M / r_d\"].values\n",
    "D_M_over_r_d_err = data[\"D_M / r_d_err\"].values\n",
    "\n",
    "D_V_obs = data[\"D_V / r_d\"].values\n",
    "D_V_err = data[\"D_V / r_d_err\"].values\n"
   ]
  },
  {
   "cell_type": "markdown",
   "id": "a9d575cc",
   "metadata": {},
   "source": [
    "## Error propagation for $r_d$ using the CMB means and covariance\n",
    "\n",
    "I propagate the uncertainties on $w_b$ and $w_{bc}$ to $r_d$ using the derivative error propagation formula for a function of correlated variables."
   ]
  },
  {
   "cell_type": "code",
   "execution_count": 9,
   "id": "53c862cd",
   "metadata": {},
   "outputs": [
    {
     "name": "stdout",
     "output_type": "stream",
     "text": [
      "r_d = 147.428 ± 0.249\n"
     ]
    }
   ],
   "source": [
    "#from DESI paper (2):\n",
    "def r_d(w_b, w_bc, Neff=3.046):\n",
    "    return 147.05 * ((w_b/0.02236)**(-0.13)) * ((w_bc/0.1432)**(-0.23)) * ((Neff/3.046)**(-0.1))\n",
    "\n",
    "# I compute r_b at the mean values\n",
    "r_d_val = r_d(w_b_mean, w_bc_mean, Neff)\n",
    "\n",
    "# Partial derivatives \n",
    "drb_dw_b = r_d_val * -0.13 / w_b_mean \n",
    "drb_dw_bc = r_d_val * -0.23 / w_bc_mean\n",
    "\n",
    "# I define the gradient vector (Neff is fixed thus I only have two correlated parameters)\n",
    "grad = np.array([drb_dw_b, drb_dw_bc])\n",
    "\n",
    "# I Extract the relevant 2x2 covariance South-East minor for (w_b, w_bc)\n",
    "cov_wb_wbc = cmb_cov[1:3, 1:3]\n",
    "\n",
    "#I Propagate the error (for my future self: @ is RxC product)\n",
    "var_r_b = grad @ cov_wb_wbc @ grad.T\n",
    "sigma_r_b = np.sqrt(var_r_b)\n",
    "print(f\"r_d = {r_d_val:.3f} ± {sigma_r_b:.3f}\")"
   ]
  },
  {
   "cell_type": "markdown",
   "id": "b98d2e8c",
   "metadata": {},
   "source": [
    "## Joint Chi-square Function for DESI + CMB\n",
    "\n",
    "This function combines the DESI BAO data and the CMB constraints (means and covariance) to find the best-fit LambdaCDM (non-flat) parameters."
   ]
  },
  {
   "cell_type": "code",
   "execution_count": 10,
   "id": "b98d2e8c",
   "metadata": {},
   "outputs": [
    {
     "name": "stdout",
     "output_type": "stream",
     "text": [
      "Best-fit H0: 68.775\n",
      "Best-fit Omega_m (from w_bc): 0.3003\n",
      "Best-fit Omega_Lambda: 0.7010\n",
      "Best-fit Omega_k: 0.0013\n",
      "Minimum chi2/dof: 1.56\n"
     ]
    }
   ],
   "source": [
    "from scipy.optimize import minimize\n",
    "\n",
    "# Now the free parameters are H0, Omega_Lambda, and w_bc (which sets Omega_m via Omega_m = w_bc / (h(H0)**2))\n",
    "\n",
    "def joint_chi2(params):\n",
    "    H0, Omega_Lambda, w_bc = params\n",
    "    Omega_m = w_bc / (h(H0)**2)\n",
    "    Omega_radiation = 0.0  # for completeness\n",
    "    model = LambdaCDM(H0, Omega_m, Omega_Lambda, Omega_radiation)\n",
    "\n",
    "    # DESI chi2: compare D_V/r_d at each z\n",
    "    D_V_model = np.array([CosmologicalDistances(model.H).volume_distance(z_i) for z_i in z])\n",
    "    chi2_desi = np.sum(((D_V_obs - D_V_model / r_d_val) / D_V_err) ** 2)\n",
    "\n",
    "    # CMB chi2: compare model CMB params to means using covariance\n",
    "    cmb_model = np.array([theta_star_mean, w_b_mean, w_bc])\n",
    "    delta = cmb_model - cmb_means\n",
    "    chi2_cmb = delta @ cmb_cov_inv @ delta\n",
    "\n",
    "    return chi2_desi + chi2_cmb\n",
    "\n",
    "# Initial guess for H0, Omega_Lambda, w_bc\n",
    "initial_guess = [70.0, 0.5, w_bc_mean]\n",
    "\n",
    "# Set reasonable bounds for H0, Omega_Lambda, w_bc\n",
    "bounds = [(60, 80), (0, 1), (0, 1)]\n",
    "\n",
    "# Minimize the joint chi-square\n",
    "result = minimize(joint_chi2, initial_guess, bounds=bounds)\n",
    "\n",
    "if result.success:\n",
    "    best_H0, best_Omega_Lambda, best_w_bc = result.x\n",
    "    best_Omega_m = best_w_bc / (h(best_H0)**2)\n",
    "    print(f\"Best-fit H0: {best_H0:.3f}\")\n",
    "    print(f\"Best-fit Omega_m (from w_bc): {best_Omega_m:.4f}\")\n",
    "    print(f\"Best-fit Omega_Lambda: {best_Omega_Lambda:.4f}\")\n",
    "    print(f\"Best-fit Omega_k: {np.abs(1 - best_Omega_m - best_Omega_Lambda):.4f}\")\n",
    "    print(f\"Minimum chi2/dof: {result.fun/3:.2f}\")\n",
    "else:\n",
    "    print(\"Minimization failed:\", result.message)\n",
    "\n",
    "\n",
    "# Manca l'erorre su Omega_k"
   ]
  },
  {
   "cell_type": "markdown",
   "id": "bcf413fa",
   "metadata": {},
   "source": [
    "## Estimate parameter uncertainties from the inverse Hessian (covariance matrix)\n",
    "\n",
    "We use the numerical Hessian (second derivatives) at the minimum to estimate the covariance matrix and thus the standard errors on the parameters."
   ]
  },
  {
   "cell_type": "code",
   "execution_count": 11,
   "id": "0cae43ea",
   "metadata": {},
   "outputs": [
    {
     "name": "stdout",
     "output_type": "stream",
     "text": [
      "Parameter uncertainties (1-sigma):\n",
      "H0: 68.775 ± 0.573\n",
      "Omega_Lambda: 0.7010 ± 0.0193\n",
      "w_bc: 0.14203 ± 0.00071\n",
      "Omega_m (from w_bc): 0.3003 ± 0.0052\n"
     ]
    }
   ],
   "source": [
    "from scipy.optimize import approx_fprime\n",
    "\n",
    "def get_covariance_matrix(minimum, func, epsilon=1e-5):\n",
    "    # Numerical Hessian estimation\n",
    "    n = len(minimum)\n",
    "    hessian = np.zeros((n, n))\n",
    "    f0 = func(minimum)\n",
    "    for i in range(n):\n",
    "        x1 = np.array(minimum, copy=True)\n",
    "        x1[i] += epsilon\n",
    "        grad1 = approx_fprime(x1, func, epsilon)\n",
    "        x2 = np.array(minimum, copy=True)\n",
    "        x2[i] -= epsilon\n",
    "        grad2 = approx_fprime(x2, func, epsilon)\n",
    "        hessian[:, i] = (grad1 - grad2) / (2 * epsilon)\n",
    "    cov = np.linalg.inv(hessian)\n",
    "    return cov\n",
    "\n",
    "if result.success:\n",
    "    # Calculate covariance matrix at the minimum\n",
    "    cov = get_covariance_matrix(result.x, joint_chi2)\n",
    "    errors = np.sqrt(np.diag(cov))\n",
    "    print(\"Parameter uncertainties (1-sigma):\")\n",
    "    print(f\"H0: {best_H0:.3f} ± {errors[0]:.3f}\")\n",
    "    print(f\"Omega_Lambda: {best_Omega_Lambda:.4f} ± {errors[1]:.4f}\")\n",
    "    print(f\"w_bc: {best_w_bc:.5f} ± {errors[2]:.5f}\")\n",
    "    # Propagate error for Omega_m = w_bc / (h(H0)**2)\n",
    "    # Use error propagation formula for functions of two variables\n",
    "    h_val = h(best_H0)\n",
    "    dOmega_m_dH0 = -2 * best_w_bc / (h_val**3 * 100)\n",
    "    dOmega_m_dwbc = 1 / (h_val**2)\n",
    "    var_Omega_m = (dOmega_m_dH0**2) * errors[0]**2 + (dOmega_m_dwbc**2) * errors[2]**2\n",
    "    Omega_m_err = np.sqrt(var_Omega_m)\n",
    "    print(f\"Omega_m (from w_bc): {best_Omega_m:.4f} ± {Omega_m_err:.4f}\")"
   ]
  },
  {
   "cell_type": "code",
   "execution_count": 12,
   "id": "0cae43ea",
   "metadata": {},
   "outputs": [
    {
     "data": {
      "image/png": "[encoded data removed]",
      "text/plain": [
       "<Figure size 640x480 with 1 Axes>"
      ]
     },
     "metadata": {},
     "output_type": "display_data"
    }
   ],
   "source": [
    "# Plot DESI data and best-fit model\n",
    "z_plot = np.linspace(np.min(z), np.max(z), 200)\n",
    "model_best = LambdaCDM(best_H0, best_Omega_m, best_Omega_Lambda)\n",
    "distances_best = CosmologicalDistances(model_best.H)\n",
    "D_V_model_plot = np.array([distances_best.volume_distance(z_i) for z_i in z_plot]) / r_d_val\n",
    "\n",
    "plt.errorbar(z, D_V_obs, yerr=D_V_err, fmt='o', markersize=4, label='DESI data', capsize=3)\n",
    "plt.plot(z_plot, D_V_model_plot, label='Best-fit LambdaCDM', color='C1')\n",
    "plt.xlabel(r\"$z$\")\n",
    "plt.ylabel(r\"$D_V / r_d$\")\n",
    "plt.title(\"DESI Data and Best-fit LambdaCDM Model (DESI+CMB)\")\n",
    "plt.legend()\n",
    "plt.grid(True)\n",
    "plt.show()\n",
    "\n",
    "#Metropolis simlultanei"
   ]
  }
 ],
 "metadata": {
  "kernelspec": {
   "display_name": "acc-env",
   "language": "python",
   "name": "python3"
  },
  "language_info": {
   "codemirror_mode": {
    "name": "ipython",
    "version": 3
   },
   "file_extension": ".py",
   "mimetype": "text/x-python",
   "name": "python",
   "nbconvert_exporter": "python",
   "pygments_lexer": "ipython3",
   "version": "3.12.9"
  }
 },
 "nbformat": 4,
 "nbformat_minor": 5
}
