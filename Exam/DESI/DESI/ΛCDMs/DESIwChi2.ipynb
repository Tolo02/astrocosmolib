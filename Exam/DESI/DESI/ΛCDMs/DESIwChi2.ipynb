{
 "cells": [
  {
   "cell_type": "code",
   "execution_count": null,
   "id": "9b78721f",
   "metadata": {},
   "outputs": [],
   "source": [
    "\"\"\"\"\"\n",
    "Aim of this script is to derive the cosmological parameters minimizing the chi-square\n",
    "function, using the CosmologicalDistances class from the pyACC library and DATA from DESI for a LambdaCDM cosmological model.\n",
    "\"\"\"\"\"\n",
    "\n",
    "\n",
    "import sys\n",
    "sys.path.append('/home/giorgio/Documents/Scuola/Università/Università_di_Genova/IV_ANNO/II_Semestre/Astrofisica Computazionale/ESAME/ToloAstroCosmoLib')\n",
    "\n",
    "import numpy as np\n",
    "import matplotlib.pyplot as plt\n",
    "import astropy.units as u\n",
    "import pandas as pd\n",
    "\n",
    "from pyACC.cosmology.cosmology import LambdaCDM\n",
    "from pyACC.cosmology.distances import CosmologicalDistances"
   ]
  },
  {
   "cell_type": "code",
   "execution_count": 12,
   "id": "91b1ae49",
   "metadata": {},
   "outputs": [
    {
     "data": {
      "text/html": [
       "<div>\n",
       "<style scoped>\n",
       "    .dataframe tbody tr th:only-of-type {\n",
       "        vertical-align: middle;\n",
       "    }\n",
       "\n",
       "    .dataframe tbody tr th {\n",
       "        vertical-align: top;\n",
       "    }\n",
       "\n",
       "    .dataframe thead th {\n",
       "        text-align: right;\n",
       "    }\n",
       "</style>\n",
       "<table border=\"1\" class=\"dataframe\">\n",
       "  <thead>\n",
       "    <tr style=\"text-align: right;\">\n",
       "      <th></th>\n",
       "      <th>z_eff</th>\n",
       "      <th>D_V / r_d</th>\n",
       "      <th>D_M / r_d</th>\n",
       "      <th>D_H / r_d</th>\n",
       "      <th>D_V / r_d_err</th>\n",
       "      <th>D_M / r_d_err</th>\n",
       "      <th>D_H / r_d_err</th>\n",
       "    </tr>\n",
       "  </thead>\n",
       "  <tbody>\n",
       "    <tr>\n",
       "      <th>0</th>\n",
       "      <td>0.295</td>\n",
       "      <td>7.942</td>\n",
       "      <td>13.588</td>\n",
       "      <td>21.863</td>\n",
       "      <td>0.075</td>\n",
       "      <td>0.168</td>\n",
       "      <td>0.425</td>\n",
       "    </tr>\n",
       "    <tr>\n",
       "      <th>1</th>\n",
       "      <td>0.510</td>\n",
       "      <td>12.720</td>\n",
       "      <td>17.351</td>\n",
       "      <td>19.455</td>\n",
       "      <td>0.099</td>\n",
       "      <td>0.177</td>\n",
       "      <td>0.330</td>\n",
       "    </tr>\n",
       "    <tr>\n",
       "      <th>2</th>\n",
       "      <td>0.706</td>\n",
       "      <td>16.050</td>\n",
       "      <td>17.351</td>\n",
       "      <td>19.455</td>\n",
       "      <td>0.110</td>\n",
       "      <td>0.177</td>\n",
       "      <td>0.330</td>\n",
       "    </tr>\n",
       "    <tr>\n",
       "      <th>3</th>\n",
       "      <td>0.934</td>\n",
       "      <td>19.721</td>\n",
       "      <td>21.576</td>\n",
       "      <td>17.641</td>\n",
       "      <td>0.091</td>\n",
       "      <td>0.152</td>\n",
       "      <td>0.193</td>\n",
       "    </tr>\n",
       "    <tr>\n",
       "      <th>4</th>\n",
       "      <td>1.321</td>\n",
       "      <td>24.252</td>\n",
       "      <td>27.601</td>\n",
       "      <td>14.176</td>\n",
       "      <td>0.174</td>\n",
       "      <td>0.318</td>\n",
       "      <td>0.221</td>\n",
       "    </tr>\n",
       "  </tbody>\n",
       "</table>\n",
       "</div>"
      ],
      "text/plain": [
       "   z_eff  D_V / r_d  D_M / r_d  D_H / r_d  D_V / r_d_err  D_M / r_d_err  \\\n",
       "0  0.295      7.942     13.588     21.863          0.075          0.168   \n",
       "1  0.510     12.720     17.351     19.455          0.099          0.177   \n",
       "2  0.706     16.050     17.351     19.455          0.110          0.177   \n",
       "3  0.934     19.721     21.576     17.641          0.091          0.152   \n",
       "4  1.321     24.252     27.601     14.176          0.174          0.318   \n",
       "\n",
       "   D_H / r_d_err  \n",
       "0          0.425  \n",
       "1          0.330  \n",
       "2          0.330  \n",
       "3          0.193  \n",
       "4          0.221  "
      ]
     },
     "execution_count": 12,
     "metadata": {},
     "output_type": "execute_result"
    }
   ],
   "source": [
    "#read data from a CSV file\n",
    "file_data = \"data.csv\"\n",
    "data = pd.read_csv(file_data)\n",
    "data = data.astype(float)\n",
    "data.head()"
   ]
  },
  {
   "cell_type": "code",
   "execution_count": 13,
   "id": "6efc63e5",
   "metadata": {},
   "outputs": [],
   "source": [
    "#Define the cosmological model\n",
    "#LambdaCDM model\n",
    "#since I'm just using DESI data I can not break the degeneracy between H0 and r_d (sound horizon at drag epoch)\n",
    "#I therefore treat r-d as another parameter of the model\n",
    "\n",
    "model = LambdaCDM(H0=70.0, Omega_m=0.3, Omega_Lambda=0.7, Omega_radiation=0)"
   ]
  },
  {
   "cell_type": "markdown",
   "id": "8dfaa81c",
   "metadata": {},
   "source": [
    "## Parameter Estimation for FlatLambdaCDM using DESI Data\n",
    "\n",
    "I will define a chi-square function for the DESI data and use `scipy.optimize.minimize` to find the best-fit parameters for the FlatLambdaCDM model."
   ]
  },
  {
   "cell_type": "code",
   "execution_count": 14,
   "id": "7d0e77ea",
   "metadata": {},
   "outputs": [
    {
     "name": "stdout",
     "output_type": "stream",
     "text": [
      "Best-fit H0: 68.03\n",
      "Best-fit Omega_m: 0.270\n",
      "Best-fit r_d: 147.06\n",
      "Best-fit Omega_Lambda: 0.624\n",
      "Chi-square/dof value: 0.9635340539900402\n"
     ]
    }
   ],
   "source": [
    "from scipy.optimize import minimize\n",
    "\n",
    "# Extract the relevant columns from the DataFrame\n",
    "z = data[\"z_eff\"].values\n",
    "D_V_obs = data[\"D_V / r_d\"].values\n",
    "D_V_err = data[\"D_V / r_d_err\"].values\n",
    "\n",
    "# Define the chi-square function for LambdaCDM\n",
    "def chi2(params):\n",
    "    H0, Omega_m, Omega_Lambda, r_d = params\n",
    "    model = LambdaCDM(H0, Omega_m, Omega_Lambda, Omega_radiation=0)\n",
    "    distances = CosmologicalDistances(model.H)\n",
    "    D_V_model = np.array([distances.volume_distance(z_running_index) for z_running_index in z])\n",
    "    # Standard chi-square: divide by error squared\n",
    "    chi2 = np.sum(((D_V_obs*r_d - D_V_model) / (D_V_err*r_d)) ** 2)\n",
    "    return chi2\n",
    "\n",
    "# Initial guess for H0 and Omega_m\n",
    "initial_guess = [68.0, 0.3, 0.7, 147.0]\n",
    "\n",
    "# Minimize chi-square\n",
    "result = minimize(chi2, initial_guess, bounds=[(60, 80), (0.1, 0.5), (0.5, 0.9),(130, 180)])\n",
    "\n",
    "if result.success:\n",
    "    best_H0, best_Omega_m, best_Lambda, best_r_d = result.x\n",
    "    print(f\"Best-fit H0: {best_H0:.2f}\")\n",
    "    print(f\"Best-fit Omega_m: {best_Omega_m:.3f}\")\n",
    "    print(f\"Best-fit r_d: {result.x[3]:.2f}\")\n",
    "    print(f\"Best-fit Omega_Lambda: {result.x[2]:.3f}\")\n",
    "    print(\"Chi-square/dof value:\", result.fun / 4)  # having assumed 4 degrees of freedom\n",
    "else:\n",
    "    print(\"Minimization failed:\", result.message)"
   ]
  },
  {
   "cell_type": "markdown",
   "id": "298bb043",
   "metadata": {},
   "source": [
    "## Plotting the Fit: DESI Data vs. Best-Fit LambdaCDM Model\n",
    "\n",
    "Let's visualize the observed DESI $D_V/r_d$ data and the best-fit model prediction."
   ]
  },
  {
   "cell_type": "code",
   "execution_count": 15,
   "id": "d9c91b45",
   "metadata": {},
   "outputs": [
    {
     "data": {
      "text/plain": [
       "<matplotlib.legend.Legend at 0x7fc69eccfc50>"
      ]
     },
     "execution_count": 15,
     "metadata": {},
     "output_type": "execute_result"
    },
    {
     "data": {
      "image/png": "[encoded data removed]",
      "text/plain": [
       "<Figure size 640x480 with 1 Axes>"
      ]
     },
     "metadata": {},
     "output_type": "display_data"
    }
   ],
   "source": [
    "# Use the best-fit parameters from the minimization\n",
    "model_best = LambdaCDM(best_H0, best_Omega_m, best_Lambda, Omega_radiation=0)\n",
    "distances_best = CosmologicalDistances(model_best.H)\n",
    "\n",
    "# Model prediction at the observed redshifts\n",
    "D_V_model = np.array([distances_best.volume_distance(zi) for zi in z]) / best_r_d\n",
    "\n",
    "plt.errorbar(z, D_V_obs, yerr=D_V_err, fmt='o', label='DESI Data', color='black', capsize=4)\n",
    "plt.plot(z, D_V_model, 'r-', label='Best-fit LambdaCDM')\n",
    "plt.xlabel('$z$')\n",
    "plt.ylabel(r'$D_V / r_d$')\n",
    "plt.title('DESI $D_V / r_d$ vs. Best-fit LambdaCDM')\n",
    "plt.legend()"
   ]
  },
  {
   "cell_type": "code",
   "execution_count": null,
   "id": "77884fad",
   "metadata": {},
   "outputs": [],
   "source": []
  }
 ],
 "metadata": {
  "kernelspec": {
   "display_name": "acc-env",
   "language": "python",
   "name": "python3"
  },
  "language_info": {
   "codemirror_mode": {
    "name": "ipython",
    "version": 3
   },
   "file_extension": ".py",
   "mimetype": "text/x-python",
   "name": "python",
   "nbconvert_exporter": "python",
   "pygments_lexer": "ipython3",
   "version": "3.12.9"
  }
 },
 "nbformat": 4,
 "nbformat_minor": 5
}
