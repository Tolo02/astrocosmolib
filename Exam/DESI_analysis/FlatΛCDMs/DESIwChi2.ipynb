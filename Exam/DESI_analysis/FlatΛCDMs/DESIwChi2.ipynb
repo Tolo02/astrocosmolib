{
 "cells": [
  {
   "cell_type": "markdown",
   "id": "bc4d4d2e",
   "metadata": {},
   "source": [
    "# Flat ΛCDM Cosmological Parameter Estimation with DESI Data\n",
    "\n",
    "This notebook derives the cosmological parameters for a **Flat ΛCDM** model by minimizing the chi-square function using only DESI data.\n",
    "\n",
    "- **Model:** Flat ΛCDM\n",
    "- **Data:** DESI BAO measurements\n",
    "- **Method:**\n",
    "  - Uses the [`CosmologicalDistances`](../../pyACC/cosmology/distances.py) class from the `pyACC` library\n",
    "  - Uses the [`FlatLambdaCDM`](../../pyACC/cosmology/cosmology.py) class from the `pyACC` library\n",
    "  - Minimization performed with `scipy.optimize.minimize`\n",
    "\n",
    "> **Note:** With DESI data alone, only the product $H_0 \\cdot r_d$ can be constrained, not $H_0$ and $r_d$ separately."
   ]
  },
  {
   "cell_type": "code",
   "execution_count": 1,
   "id": "623c4a1e",
   "metadata": {},
   "outputs": [],
   "source": [
    "import sys\n",
    "sys.path.append('/home/giorgio/Documents/Scuola/Università/Università_di_Genova/IV_ANNO/II_Semestre/Astrofisica Computazionale/ESAME/ToloAstroCosmoLib')\n",
    "\n",
    "import numpy as np\n",
    "import pandas as pd\n",
    "import matplotlib.pyplot as plt\n",
    "\n",
    "from pyACC.cosmology.cosmology import FlatLambdaCDM\n",
    "from pyACC.cosmology.distances import CosmologicalDistances"
   ]
  },
  {
   "cell_type": "code",
   "execution_count": 2,
   "id": "91b1ae49",
   "metadata": {},
   "outputs": [
    {
     "data": {
      "text/html": [
       "<div>\n",
       "<style scoped>\n",
       "    .dataframe tbody tr th:only-of-type {\n",
       "        vertical-align: middle;\n",
       "    }\n",
       "\n",
       "    .dataframe tbody tr th {\n",
       "        vertical-align: top;\n",
       "    }\n",
       "\n",
       "    .dataframe thead th {\n",
       "        text-align: right;\n",
       "    }\n",
       "</style>\n",
       "<table border=\"1\" class=\"dataframe\">\n",
       "  <thead>\n",
       "    <tr style=\"text-align: right;\">\n",
       "      <th></th>\n",
       "      <th>z_eff</th>\n",
       "      <th>D_V / r_d</th>\n",
       "      <th>D_M / r_d</th>\n",
       "      <th>D_H / r_d</th>\n",
       "      <th>D_V / r_d_err</th>\n",
       "      <th>D_M / r_d_err</th>\n",
       "      <th>D_H / r_d_err</th>\n",
       "    </tr>\n",
       "  </thead>\n",
       "  <tbody>\n",
       "    <tr>\n",
       "      <th>0</th>\n",
       "      <td>0.295</td>\n",
       "      <td>7.942</td>\n",
       "      <td>13.588</td>\n",
       "      <td>21.863</td>\n",
       "      <td>0.075</td>\n",
       "      <td>0.168</td>\n",
       "      <td>0.425</td>\n",
       "    </tr>\n",
       "    <tr>\n",
       "      <th>1</th>\n",
       "      <td>0.510</td>\n",
       "      <td>12.720</td>\n",
       "      <td>17.351</td>\n",
       "      <td>19.455</td>\n",
       "      <td>0.099</td>\n",
       "      <td>0.177</td>\n",
       "      <td>0.330</td>\n",
       "    </tr>\n",
       "    <tr>\n",
       "      <th>2</th>\n",
       "      <td>0.706</td>\n",
       "      <td>16.050</td>\n",
       "      <td>17.351</td>\n",
       "      <td>19.455</td>\n",
       "      <td>0.110</td>\n",
       "      <td>0.177</td>\n",
       "      <td>0.330</td>\n",
       "    </tr>\n",
       "    <tr>\n",
       "      <th>3</th>\n",
       "      <td>0.934</td>\n",
       "      <td>19.721</td>\n",
       "      <td>21.576</td>\n",
       "      <td>17.641</td>\n",
       "      <td>0.091</td>\n",
       "      <td>0.152</td>\n",
       "      <td>0.193</td>\n",
       "    </tr>\n",
       "    <tr>\n",
       "      <th>4</th>\n",
       "      <td>1.321</td>\n",
       "      <td>24.252</td>\n",
       "      <td>27.601</td>\n",
       "      <td>14.176</td>\n",
       "      <td>0.174</td>\n",
       "      <td>0.318</td>\n",
       "      <td>0.221</td>\n",
       "    </tr>\n",
       "  </tbody>\n",
       "</table>\n",
       "</div>"
      ],
      "text/plain": [
       "   z_eff  D_V / r_d  D_M / r_d  D_H / r_d  D_V / r_d_err  D_M / r_d_err  \\\n",
       "0  0.295      7.942     13.588     21.863          0.075          0.168   \n",
       "1  0.510     12.720     17.351     19.455          0.099          0.177   \n",
       "2  0.706     16.050     17.351     19.455          0.110          0.177   \n",
       "3  0.934     19.721     21.576     17.641          0.091          0.152   \n",
       "4  1.321     24.252     27.601     14.176          0.174          0.318   \n",
       "\n",
       "   D_H / r_d_err  \n",
       "0          0.425  \n",
       "1          0.330  \n",
       "2          0.330  \n",
       "3          0.193  \n",
       "4          0.221  "
      ]
     },
     "execution_count": 2,
     "metadata": {},
     "output_type": "execute_result"
    }
   ],
   "source": [
    "import pandas as pd\n",
    "\n",
    "#read data from a CSV file\n",
    "file_data = \"data.csv\"\n",
    "data = pd.read_csv(file_data)\n",
    "data = data.astype(float)\n",
    "data.head()"
   ]
  },
  {
   "cell_type": "code",
   "execution_count": 3,
   "id": "6efc63e5",
   "metadata": {},
   "outputs": [],
   "source": [
    "#I Define the cosmological model\n",
    "#a Flat LambdaCDM model\n",
    "\n",
    "model = FlatLambdaCDM(H0=70.0, Omega_m=0.3)"
   ]
  },
  {
   "cell_type": "markdown",
   "id": "8dfaa81c",
   "metadata": {},
   "source": [
    "## Parameter Estimation and Error Estimation for Best-fit Parameters for FlatLambdaCDM using DESI Data\n",
    "\n",
    "I will define a chi-square function for the DESI data and use `scipy.optimize.minimize` to find the best-fit parameters for the FlatLambdaCDM model.\n",
    "We estimate the uncertainties on the best-fit parameters using the inverse Hessian (covariance matrix) from the minimization result. The square roots of the diagonal elements give the $1\\sigma$ errors."
   ]
  },
  {
   "cell_type": "code",
   "execution_count": 4,
   "id": "aafdd0c2",
   "metadata": {},
   "outputs": [
    {
     "name": "stdout",
     "output_type": "stream",
     "text": [
      "(H0 * r_d) = 10150.52 ± 1013.37\n",
      "Omega_m = 0.2980 ± 0.0943\n",
      "Chi2/dof = 0.928\n"
     ]
    }
   ],
   "source": [
    "from scipy.optimize import minimize\n",
    "import warnings\n",
    "from numpy.linalg import LinAlgError\n",
    "\n",
    "# I extract the relevant data\n",
    "z = data[\"z_eff\"].values\n",
    "D_V_over_r_d = data[\"D_V / r_d\"].values\n",
    "D_V_over_r_d_err = data[\"D_V / r_d_err\"].values\n",
    "\n",
    "# Redefine the chi-square function to fit only the product H0 * r_d (since DESI data alone cannot break the degeneracy)\n",
    "def chi2_prod(params):\n",
    "    prod, Omega_m = params\n",
    "    H0 = 70.0\n",
    "    r_d = prod / H0\n",
    "    model = FlatLambdaCDM(H0, Omega_m)\n",
    "    distances = CosmologicalDistances(model.H)\n",
    "    D_V_model = np.array([distances.volume_distance(z_running_index) for z_running_index in z])\n",
    "    chi2 = np.sum(((D_V_over_r_d - D_V_model / r_d) / D_V_over_r_d_err) ** 2)\n",
    "    return chi2\n",
    "\n",
    "# Initial guess: [H0 * r_d, Omega_m]\n",
    "initial_guess_prod = [70.0 * 147.0 + 200, 0.9]\n",
    "\n",
    "# Minimize chi-square for the product\n",
    "result_prod = minimize(chi2_prod, initial_guess_prod, bounds=[(60*130, 80*180), (0, 1)])\n",
    "\n",
    "# Prepare output variables so the output is not messed up when minimization fails\n",
    "best_prod, best_Omega_m_prod = np.nan, np.nan\n",
    "prod_err, Omega_m_err = np.nan, np.nan\n",
    "r_d_best_prod, r_d_err = np.nan, np.nan\n",
    "\n",
    "\n",
    "if result_prod.success:\n",
    "    best_prod, best_Omega_m_prod = result_prod.x\n",
    "    # Error estimation\n",
    "    if hasattr(result_prod, 'hess_inv'):\n",
    "        try:\n",
    "            if hasattr(result_prod.hess_inv, 'todense'):\n",
    "                cov = result_prod.hess_inv.todense()\n",
    "            else:\n",
    "                cov = result_prod.hess_inv\n",
    "            errors = np.sqrt(np.diag(cov))\n",
    "            prod_err, Omega_m_err = errors[0], errors[1]\n",
    "        except (AttributeError, LinAlgError, IndexError) as e:\n",
    "            warnings.warn(f\"Could not compute parameter errors from Hessian: {e}\")\n",
    "\n",
    "\n",
    "    # Calculate chi2/dof\n",
    "    ndata = len(z)\n",
    "    nparams = 2\n",
    "    chi2 = result_prod.fun\n",
    "    dof = ndata - nparams\n",
    "    chi2_dof = chi2 / dof if dof > 0 else np.nan\n",
    "\n",
    "    # Print only the best-fit values ± errors and chi2/dof\n",
    "    print(f\"(H0 * r_d) = {best_prod:.2f} ± {prod_err:.2f}\")\n",
    "    print(f\"Omega_m = {best_Omega_m_prod:.4f} ± {Omega_m_err:.4f}\")\n",
    "    print(f\"Chi2/dof = {chi2_dof:.3f}\")\n",
    "else:\n",
    "    print(\"Minimization failed:\", result_prod.message)"
   ]
  },
  {
   "cell_type": "markdown",
   "id": "d12496e7",
   "metadata": {},
   "source": [
    "### Notes on Error Estimation\n",
    "\n",
    "- The errors are estimated from the inverse Hessian (covariance matrix) at the minimum."
   ]
  },
  {
   "cell_type": "code",
   "execution_count": 5,
   "id": "c09536b6",
   "metadata": {},
   "outputs": [
    {
     "data": {
      "image/png": "[encoded data removed]",
      "text/plain": [
       "<Figure size 640x480 with 1 Axes>"
      ]
     },
     "metadata": {},
     "output_type": "display_data"
    }
   ],
   "source": [
    "# Plot the fit for the product parameterization\n",
    "prod_best, Omega_m_best_prod = result_prod.x\n",
    "H0_fixed = 70.0\n",
    "r_d_best_prod = prod_best / H0_fixed\n",
    "model_best_prod = FlatLambdaCDM(H0_fixed, Omega_m_best_prod)\n",
    "distances_best_prod = CosmologicalDistances(model_best_prod.H)\n",
    "D_V_model_prod = np.array([distances_best_prod.volume_distance(zi) for zi in z]) / r_d_best_prod\n",
    "\n",
    "plt.errorbar(z, D_V_over_r_d, yerr=D_V_over_r_d_err, fmt='o', label='DESI Data', color='black', capsize=4)\n",
    "plt.plot(z, D_V_model_prod, 'b--', label='Best-fit (H0*r_d, Omega_m)')\n",
    "plt.xlabel('$z$')\n",
    "plt.ylabel(r'$D_V / r_d$')\n",
    "plt.title('DESI $D_V / r_d$ vs. Best-fit FlatLambdaCDM (H0*r_d)')\n",
    "plt.legend()\n",
    "plt.show()"
   ]
  },
  {
   "cell_type": "markdown",
   "id": "f4f6f05d",
   "metadata": {},
   "source": [
    "## Comparison with Literature: arXiv:2411.12020v1\n",
    "\n",
    "<div style=\"background: #f6f8fa; border-left: 4px solid #0366d6; padding: 1em 1.5em; margin-bottom: 1em;\">\n",
    "<b>Paper Reference:</b> <a href=\"https://arxiv.org/abs/2411.12020v1\" target=\"_blank\">arXiv:2411.12020v1</a>  \n",
    "<b>Table 2, Flat ΛCDM, DESI-only fit</b>\n",
    "</div>\n",
    "\n",
    "| Flat ΛCDM         | My $χ^2$ minimization         |My MCMC sample    | Paper|\n",
    "|-------------------|-------------------------------|-------------------|----------------------------|\n",
    "| $H_0 \\cdot r_d$   | $10150.52 \\pm 1013.37 \\,\\text{km/s}$   |$10147.20_{-94.55}^{+93.85}\\,\\text{km/s}$| ~$\\,11000 \\,\\text{km/s}$           |\n",
    "| $\\Omega_m$        | $0.2980 \\pm 0.0943$           | $0.2975 \\pm 0.0086$       | $0.299_{+0.013}^{-0.012}$|"
   ]
  }
 ],
 "metadata": {
  "kernelspec": {
   "display_name": "acc-env",
   "language": "python",
   "name": "python3"
  },
  "language_info": {
   "codemirror_mode": {
    "name": "ipython",
    "version": 3
   },
   "file_extension": ".py",
   "mimetype": "text/x-python",
   "name": "python",
   "nbconvert_exporter": "python",
   "pygments_lexer": "ipython3",
   "version": "3.12.9"
  }
 },
 "nbformat": 4,
 "nbformat_minor": 5
}
