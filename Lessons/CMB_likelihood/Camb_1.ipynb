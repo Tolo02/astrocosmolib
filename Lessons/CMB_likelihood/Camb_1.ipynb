{
 "cells": [
  {
   "cell_type": "code",
   "execution_count": 1,
   "id": "824381d2",
   "metadata": {},
   "outputs": [],
   "source": [
    "import numpy as np\n",
    "import matplotlib.pyplot as plt\n",
    "\n",
    "import sys\n",
    "sys.path.append('/home/elena/astrocosmolib/')\n",
    "\n",
    "import pyACC.cosmology as cosmo"
   ]
  },
  {
   "cell_type": "code",
   "execution_count": null,
   "id": "6eb58ba8",
   "metadata": {},
   "outputs": [],
   "source": [
    "#https://arxiv.org/pdf/2503.14738"
   ]
  },
  {
   "cell_type": "code",
   "execution_count": 3,
   "id": "f48a915c",
   "metadata": {},
   "outputs": [],
   "source": [
    "mu_cmb= [0.01041, 0.02223, 0.14208]\n",
    "cov_cmb = ([0.006621, 0.12444, -1.1929],[0.12444, 21.344, -94.001], [-1.1929, -94.001, 1488.4])\n",
    "           \n",
    "inv_con_cmb = np.linalg.inv(cov_cmb)\n"
   ]
  },
  {
   "cell_type": "code",
   "execution_count": 4,
   "id": "c80435c5",
   "metadata": {},
   "outputs": [],
   "source": [
    "def sound_horizon(omega_b, omega_bc, Neff):\n",
    "    return 147.08*(omega_b/0.0236)**(-0.13) * (omega_bc/0.1432)**(-0.23)*(Neff/3.04)**(-0.1)\n",
    "\n",
    "def model(params):\n",
    "    rs = sound_horizon(params[\"omega_b\"], params[\"omega_bc\"], params[\"Neff\"])\n",
    "    hf_test = cosmo.FlatLambdaCDM(H0 = params[\"H0\"], Omega_m = params[\"omega_bc\"] )\n",
    "    dist = cosmo.Distances(hf_test, False)\n",
    "    Dm = dist.transverse_comoving_distance(1089, {})\n",
    "    return rs/Dm, params[\"omega_b\"], params[\"omega_bc\"]\n",
    "\n",
    "def cmb_log_likelihood(params):\n",
    "    mu_pred = np.array(model(params))\n",
    "    diff = mu_cmb - mu_pred\n",
    "    chi2 = diff @ inv_con_cmb @ diff\n",
    "    return -0.5 * chi2"
   ]
  },
  {
   "cell_type": "code",
   "execution_count": 5,
   "id": "e36f763f",
   "metadata": {},
   "outputs": [
    {
     "data": {
      "text/plain": [
       "((0.00772886966308017, 0.02223, 0.14208), np.float64(-0.0006524937479612102))"
      ]
     },
     "execution_count": 5,
     "metadata": {},
     "output_type": "execute_result"
    }
   ],
   "source": [
    "params = {}\n",
    "params[\"omega_b\"] = 0.02223\n",
    "params[\"omega_bc\"] = 0.14208\n",
    "params[\"Neff\"] = 3.04\n",
    "params[\"H0\"] = 67.0\n",
    "\n",
    "model(params), cmb_log_likelihood(params)"
   ]
  }
 ],
 "metadata": {
  "kernelspec": {
   "display_name": "acc-env",
   "language": "python",
   "name": "python3"
  },
  "language_info": {
   "codemirror_mode": {
    "name": "ipython",
    "version": 3
   },
   "file_extension": ".py",
   "mimetype": "text/x-python",
   "name": "python",
   "nbconvert_exporter": "python",
   "pygments_lexer": "ipython3",
   "version": "3.12.3"
  }
 },
 "nbformat": 4,
 "nbformat_minor": 5
}
