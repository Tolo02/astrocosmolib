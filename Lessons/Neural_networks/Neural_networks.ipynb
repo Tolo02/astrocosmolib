{
 "cells": [
  {
   "cell_type": "code",
   "execution_count": null,
   "id": "e6843817",
   "metadata": {},
   "outputs": [],
   "source": [
    "import numpy as np\n",
    "import matplotlib.pyplot as plt\n",
    "import camb\n",
    "import torch "
   ]
  },
  {
   "cell_type": "code",
   "execution_count": 2,
   "id": "316542bd",
   "metadata": {},
   "outputs": [],
   "source": [
    "def model_rs(ombh2,omch2,nnu, z_star):\n",
    "  camb_params = camb.CAMBparams()\n",
    "  camb_params.set_cosmology(ombh2=ombh2,omch2=omch2-ombh2,nnu=nnu,num_massive_neutrinos=0,mnu=0,H0=70) \n",
    "  camb_result = camb.get_background(camb_params)\n",
    "  rs_star = camb_result.sound_horizon(z_star)\n",
    "  return rs_star"
   ]
  },
  {
   "cell_type": "code",
   "execution_count": 5,
   "id": "ec087f60",
   "metadata": {},
   "outputs": [
    {
     "name": "stdout",
     "output_type": "stream",
     "text": [
      "CUDA is not available. Using CPU.\n"
     ]
    }
   ],
   "source": [
    "#Check if CUDA is available\n",
    "if torch.cuda.is_available():\n",
    "    device = torch.device(\"cuda\")\n",
    "    print(\"CUDA is available. Using GPU.\")\n",
    "else:\n",
    "    device = torch.device(\"cpu\")\n",
    "    print(\"CUDA is not available. Using CPU.\")"
   ]
  },
  {
   "cell_type": "code",
   "execution_count": 7,
   "id": "2bf2db87",
   "metadata": {},
   "outputs": [
    {
     "data": {
      "text/plain": [
       "(3, 5000)"
      ]
     },
     "execution_count": 7,
     "metadata": {},
     "output_type": "execute_result"
    }
   ],
   "source": [
    "wb_limits = [0.02, 0.024]\n",
    "wbc_limits = [0.1, 0.18]\n",
    "Neff_limits = [3, 3.1]\n",
    "\n",
    "training_points = 5000\n",
    "test_points = 1000\n",
    "\n",
    "training_set = np.random.uniform(0,1,(3,training_points))\n",
    "test_set = np.random.uniform(0,1,(3,test_points))\n",
    "\n",
    "training_set[0] = training_set[0]*(wb_limits[1]-wb_limits[0])+wb_limits[0]\n",
    "training_set[1] = training_set[1]*(wbc_limits[1]-wbc_limits[0])+wbc_limits[0]\n",
    "training_set[2] = training_set[2]*(Neff_limits[1]-Neff_limits[0])+Neff_limits[0]\n",
    "\n",
    "test_set[0] = test_set[0]*(wb_limits[1]-wb_limits[0])+wb_limits[0]\n",
    "test_set[1] = test_set[1]*(wbc_limits[1]-wbc_limits[0])+wbc_limits[0]\n",
    "test_set[2] = test_set[2]*(Neff_limits[1]-Neff_limits[0])+Neff_limits[0]"
   ]
  },
  {
   "cell_type": "code",
   "execution_count": 9,
   "id": "f5e9555f",
   "metadata": {},
   "outputs": [],
   "source": [
    "training_rs = np.array([model_rs(training_set[0][i],training_set[1][i],training_set[2][i], 1089) for i in range(training_points)])\n",
    "\n",
    "test_rs = np.array([model_rs(test_set[0][i],test_set[1][i],test_set[2][i], 1089) for i in range(test_points)])"
   ]
  },
  {
   "cell_type": "code",
   "execution_count": 15,
   "id": "e35a205a",
   "metadata": {},
   "outputs": [],
   "source": [
    "min_X = np.min(training_set, axis=1)\n",
    "max_X = np.max(training_set, axis=1)\n",
    "\n",
    "min_Y = np.min(training_rs)\n",
    "max_Y = np.max(training_rs)\n",
    "\n",
    "X = torch.tensor((training_set.T - min_X) / (max_X - min_X), dtype=torch.float)\n",
    "Y = torch.tensor((training_rs.T - min_Y) / (max_Y - min_Y), dtype=torch.float)"
   ]
  },
  {
   "cell_type": "code",
   "execution_count": 49,
   "id": "3502ca33",
   "metadata": {},
   "outputs": [
    {
     "data": {
      "text/plain": [
       "NeuralNetwork(\n",
       "  (flatten): Flatten(start_dim=1, end_dim=-1)\n",
       "  (linear_relu_stack): Sequential(\n",
       "    (0): Linear(in_features=3, out_features=32, bias=True)\n",
       "    (1): ReLU()\n",
       "    (2): Linear(in_features=32, out_features=32, bias=True)\n",
       "    (3): ReLU()\n",
       "    (4): Linear(in_features=32, out_features=1, bias=True)\n",
       "  )\n",
       ")"
      ]
     },
     "execution_count": 49,
     "metadata": {},
     "output_type": "execute_result"
    }
   ],
   "source": [
    "# Rete neurale densa con 1 layer in input con 3 neuroni e un layer in output con 1 neurone, e 2 hidden layers con 32 neuroni.\n",
    "# La funzione di attivazione è ReLU.\n",
    "import torch.nn as nn\n",
    "\n",
    "class NeuralNetwork(nn.Module):\n",
    "    def __init__(self):\n",
    "        super(NeuralNetwork, self).__init__()\n",
    "        self.flatten = nn.Flatten()\n",
    "        self.linear_relu_stack = nn.Sequential(\n",
    "            nn.Linear(3, 32),\n",
    "            nn.ReLU(),\n",
    "            nn.Linear(32, 32),\n",
    "            nn.ReLU(),\n",
    "            nn.Linear(32, 1)\n",
    "        )\n",
    "\n",
    "    def forward(self, x):\n",
    "        x = self.flatten(x)\n",
    "        logits = self.linear_relu_stack(x)\n",
    "        return logits\n",
    "    \n",
    "model = NeuralNetwork()\n",
    "model"
   ]
  },
  {
   "cell_type": "code",
   "execution_count": 50,
   "id": "0934228a",
   "metadata": {},
   "outputs": [
    {
     "name": "stdout",
     "output_type": "stream",
     "text": [
      "torch.Size([5000, 1])\n",
      "tensor([[-0.1176],\n",
      "        [-0.1730],\n",
      "        [-0.1242],\n",
      "        ...,\n",
      "        [-0.2137],\n",
      "        [-0.2246],\n",
      "        [-0.2706]], grad_fn=<AddmmBackward0>)\n"
     ]
    }
   ],
   "source": [
    "result = model(X)\n",
    "print(result.shape)\n",
    "print(result)"
   ]
  },
  {
   "cell_type": "code",
   "execution_count": 51,
   "id": "878e0dd4",
   "metadata": {},
   "outputs": [
    {
     "name": "stdout",
     "output_type": "stream",
     "text": [
      "tensor(11812587., grad_fn=<SumBackward0>)\n"
     ]
    }
   ],
   "source": [
    "squared_error = (result-Y)**2\n",
    "print(torch.sum(squared_error))"
   ]
  },
  {
   "cell_type": "code",
   "execution_count": 52,
   "id": "21f20e78",
   "metadata": {},
   "outputs": [
    {
     "name": "stderr",
     "output_type": "stream",
     "text": [
      "/home/elena/anaconda3/envs/acc-env/lib/python3.12/site-packages/torch/nn/modules/loss.py:610: UserWarning: Using a target size (torch.Size([32])) that is different to the input size (torch.Size([32, 1])). This will likely lead to incorrect results due to broadcasting. Please ensure they have the same size.\n",
      "  return F.mse_loss(input, target, reduction=self.reduction)\n",
      "/home/elena/anaconda3/envs/acc-env/lib/python3.12/site-packages/torch/nn/modules/loss.py:610: UserWarning: Using a target size (torch.Size([8])) that is different to the input size (torch.Size([8, 1])). This will likely lead to incorrect results due to broadcasting. Please ensure they have the same size.\n",
      "  return F.mse_loss(input, target, reduction=self.reduction)\n"
     ]
    },
    {
     "name": "stdout",
     "output_type": "stream",
     "text": [
      "Epoch [10/100], Loss: 0.0665\n",
      "Epoch [20/100], Loss: 0.0665\n",
      "Epoch [30/100], Loss: 0.0667\n",
      "Epoch [40/100], Loss: 0.0668\n",
      "Epoch [50/100], Loss: 0.0668\n",
      "Epoch [60/100], Loss: 0.0668\n",
      "Epoch [70/100], Loss: 0.0668\n",
      "Epoch [80/100], Loss: 0.0668\n",
      "Epoch [90/100], Loss: 0.0667\n",
      "Epoch [100/100], Loss: 0.0666\n",
      "Training complete.\n"
     ]
    }
   ],
   "source": [
    "# Train the noetwork on X, Y\n",
    "import torch.optim as optim\n",
    "\n",
    "#Define the loss function and optimizer\n",
    "loss_fn = nn.MSELoss()\n",
    "optimizer = optim.Adam(model.parameters(), lr=0.001)\n",
    "\n",
    "#Training loop\n",
    "epochs = 100\n",
    "batch_size = 32\n",
    "\n",
    "for epoch in range(epochs):\n",
    "    for i in range(0, len(X), batch_size):\n",
    "        # Get the batch\n",
    "        x_batch = X[i:i+batch_size]\n",
    "        y_batch = Y[i:i+batch_size]\n",
    "\n",
    "        # Zero the gradients\n",
    "        optimizer.zero_grad()\n",
    "\n",
    "        # Forward pass\n",
    "        pred = model(x_batch)\n",
    "\n",
    "        # Compute the loss\n",
    "        loss = loss_fn(pred, y_batch)\n",
    "\n",
    "        # Backpropagation\n",
    "        loss.backward()\n",
    "        optimizer.step()\n",
    "\n",
    "    #Print the loss every 10 epochs\n",
    "    if (epoch+1) % 10 == 0:\n",
    "        print(f'Epoch [{epoch+1}/{epochs}], Loss: {loss.item():.4f}')\n",
    "\n",
    "print(\"Training complete.\")"
   ]
  },
  {
   "cell_type": "code",
   "execution_count": 56,
   "id": "d980b557",
   "metadata": {},
   "outputs": [
    {
     "name": "stdout",
     "output_type": "stream",
     "text": [
      "Shape di test_set.T: (3, 100)\n",
      "Shape di min_X: (3,)\n",
      "Shape di max_X: (3,)\n"
     ]
    }
   ],
   "source": [
    "print(\"Shape di test_set.T:\", test_set.T.shape)\n",
    "print(\"Shape di min_X:\", min_X.shape)\n",
    "print(\"Shape di max_X:\", max_X.shape)"
   ]
  },
  {
   "cell_type": "code",
   "execution_count": null,
   "id": "a7db92a7",
   "metadata": {},
   "outputs": [],
   "source": [
    "test_set = test_set.T  # Cambia la forma da (3, 100) a (100, 3)\n",
    "\n",
    "min_X = min_X[np.newaxis, :]  # Diventa (1, 3)\n",
    "max_X = max_X[np.newaxis, :]  # Diventa (1, 3)\n",
    "\n",
    "test_X = torch.tensor((test_set - min_X) / (max_X - min_X), dtype=torch.float)"
   ]
  },
  {
   "cell_type": "code",
   "execution_count": 59,
   "id": "c1f53b2b",
   "metadata": {},
   "outputs": [
    {
     "data": {
      "text/plain": [
       "tensor([[144.9346],\n",
       "        [144.9640],\n",
       "        [145.1590],\n",
       "        [145.0962],\n",
       "        [145.2791],\n",
       "        [144.9942],\n",
       "        [145.1142],\n",
       "        [145.0996],\n",
       "        [145.1571],\n",
       "        [145.5613],\n",
       "        [145.2289],\n",
       "        [144.9949],\n",
       "        [145.3824],\n",
       "        [145.3830],\n",
       "        [145.0248],\n",
       "        [144.9451],\n",
       "        [145.4121],\n",
       "        [145.4077],\n",
       "        [145.2447],\n",
       "        [145.0171],\n",
       "        [145.2189],\n",
       "        [145.2886],\n",
       "        [145.2512],\n",
       "        [145.3127],\n",
       "        [145.3945],\n",
       "        [145.4801],\n",
       "        [145.3603],\n",
       "        [145.4308],\n",
       "        [145.1569],\n",
       "        [145.1400],\n",
       "        [145.4083],\n",
       "        [145.3185],\n",
       "        [145.1285],\n",
       "        [144.9889],\n",
       "        [145.0153],\n",
       "        [145.0192],\n",
       "        [145.1805],\n",
       "        [145.2409],\n",
       "        [145.2570],\n",
       "        [145.4693],\n",
       "        [144.9484],\n",
       "        [145.2525],\n",
       "        [144.9418],\n",
       "        [145.2115],\n",
       "        [145.0523],\n",
       "        [145.3964],\n",
       "        [145.4074],\n",
       "        [144.9458],\n",
       "        [145.1800],\n",
       "        [145.1435],\n",
       "        [145.5164],\n",
       "        [145.1578],\n",
       "        [145.5566],\n",
       "        [145.0331],\n",
       "        [144.9689],\n",
       "        [145.2353],\n",
       "        [145.4979],\n",
       "        [145.0692],\n",
       "        [145.2303],\n",
       "        [145.0370],\n",
       "        [145.2834],\n",
       "        [145.3087],\n",
       "        [145.2017],\n",
       "        [144.9507],\n",
       "        [145.4540],\n",
       "        [145.0251],\n",
       "        [145.1167],\n",
       "        [145.3178],\n",
       "        [145.3899],\n",
       "        [145.0894],\n",
       "        [145.1703],\n",
       "        [145.2941],\n",
       "        [145.3087],\n",
       "        [144.9662],\n",
       "        [145.2329],\n",
       "        [145.3263],\n",
       "        [145.4601],\n",
       "        [145.4176],\n",
       "        [145.2260],\n",
       "        [145.1040],\n",
       "        [145.3625],\n",
       "        [145.4904],\n",
       "        [145.3077],\n",
       "        [145.3061],\n",
       "        [145.2878],\n",
       "        [145.2554],\n",
       "        [145.3885],\n",
       "        [145.1038],\n",
       "        [145.3028],\n",
       "        [144.9496],\n",
       "        [145.4729],\n",
       "        [145.2722],\n",
       "        [144.9773],\n",
       "        [145.0190],\n",
       "        [145.0180],\n",
       "        [144.9491],\n",
       "        [145.1500],\n",
       "        [145.2277],\n",
       "        [145.2867],\n",
       "        [145.2826]], grad_fn=<AddBackward0>)"
      ]
     },
     "execution_count": 59,
     "metadata": {},
     "output_type": "execute_result"
    }
   ],
   "source": [
    "pred_y = model(test_X)\n",
    "pred_rs = pred_y * (max_Y - min_Y) + min_Y\n",
    "\n",
    "pred_rs"
   ]
  },
  {
   "cell_type": "code",
   "execution_count": 60,
   "id": "4ec35dec",
   "metadata": {},
   "outputs": [],
   "source": [
    "wb_ref = 0.02236\n",
    "wbc_ref = 0.1432\n",
    "Neff_ref = 3.04\n",
    "\n",
    "Neff_random = np.random.uniform(Neff_limits[0], Neff_limits[1], 100)\n",
    "rs_random = np.array([model_rs(wb_ref,wbc_ref,Neff_random[i], 1089) for i in range(100)])"
   ]
  },
  {
   "cell_type": "code",
   "execution_count": 63,
   "id": "7af69fe5",
   "metadata": {},
   "outputs": [
    {
     "name": "stdout",
     "output_type": "stream",
     "text": [
      "torch.Size([100, 1])\n"
     ]
    }
   ],
   "source": [
    "test_set = np.array([[wb_ref, wbc_ref, Neff_random[i]] for i in range(100)])\n",
    "test_X = torch.tensor((test_set - min_X) / (max_X - min_X), dtype=torch.float)\n",
    "pred_y = model(test_X)\n",
    "pred_rs = pred_y * (max_Y - min_Y) + min_Y\n",
    "\n",
    "print(pred_rs.shape)"
   ]
  },
  {
   "cell_type": "code",
   "execution_count": 64,
   "id": "0fd1bf88",
   "metadata": {},
   "outputs": [
    {
     "data": {
      "text/plain": [
       "<matplotlib.legend.Legend at 0x7ff1a8181f10>"
      ]
     },
     "execution_count": 64,
     "metadata": {},
     "output_type": "execute_result"
    },
    {
     "data": {
      "image/png": "[encoded data removed]",
      "text/plain": [
       "<Figure size 640x480 with 2 Axes>"
      ]
     },
     "metadata": {},
     "output_type": "display_data"
    }
   ],
   "source": [
    "cb = plt.scatter(rs_random, pred_rs.detach().numpy(), c=Neff_random, label ='Fit')\n",
    "plt.colorbar(cb)\n",
    "plt.plot(rs_random, rs_random, label='Bisector')\n",
    "plt.ylabel('Theoretical')\n",
    "plt.legend()"
   ]
  },
  {
   "cell_type": "code",
   "execution_count": 65,
   "id": "f832111b",
   "metadata": {},
   "outputs": [
    {
     "data": {
      "text/plain": [
       "<matplotlib.legend.Legend at 0x7ff19ad9e1e0>"
      ]
     },
     "execution_count": 65,
     "metadata": {},
     "output_type": "execute_result"
    },
    {
     "data": {
      "image/png": "[encoded data removed]",
      "text/plain": [
       "<Figure size 640x480 with 2 Axes>"
      ]
     },
     "metadata": {},
     "output_type": "display_data"
    }
   ],
   "source": [
    "wbc_random = np.random.uniform(wbc_limits[0], wbc_limits[1], 100)\n",
    "rs_random = np.array([model_rs(wb_ref,wbc_random[i],Neff_ref, 1089) for i in range(100)])\n",
    "\n",
    "test_set = np.array([[wb_ref, wbc_random[i], Neff_ref] for i in range(100)])\n",
    "test_X = torch.tensor((test_set - min_X) / (max_X - min_X), dtype=torch.float)\n",
    "pred_y = model(test_X)\n",
    "pred_rs = pred_y * (max_Y - min_Y) + min_Y\n",
    "\n",
    "cb = plt.scatter(rs_random, pred_rs.detach().numpy(), c=Neff_random, label ='Fit')\n",
    "plt.colorbar(cb)\n",
    "plt.plot(rs_random, rs_random, label='Bisector')\n",
    "plt.ylabel('Theoretical')\n",
    "plt.legend()"
   ]
  }
 ],
 "metadata": {
  "kernelspec": {
   "display_name": "acc-env",
   "language": "python",
   "name": "python3"
  },
  "language_info": {
   "codemirror_mode": {
    "name": "ipython",
    "version": 3
   },
   "file_extension": ".py",
   "mimetype": "text/x-python",
   "name": "python",
   "nbconvert_exporter": "python",
   "pygments_lexer": "ipython3",
   "version": "3.12.9"
  }
 },
 "nbformat": 4,
 "nbformat_minor": 5
}
